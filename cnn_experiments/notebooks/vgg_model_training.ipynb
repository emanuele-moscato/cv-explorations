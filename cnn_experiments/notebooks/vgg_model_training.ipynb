{
 "cells": [
  {
   "cell_type": "markdown",
   "id": "f84f7484-5b25-45cc-b413-b2e3a568e56a",
   "metadata": {},
   "source": [
    "# Experiment with a convolutional neural network"
   ]
  },
  {
   "cell_type": "markdown",
   "id": "7af9555c-55b0-4b49-a706-eb2620337376",
   "metadata": {},
   "source": [
    "Experiment training a convolutional neural network with VGG-like architecture.\n",
    "\n",
    "Source: https://github.com/stefanogiagu/dl_mib_2023/blob/main/DLforPhysicists_MIB2023_HandsOn_SimpleCNN_italian.ipynb"
   ]
  },
  {
   "cell_type": "code",
   "execution_count": null,
   "id": "7f007e94-0f4e-43f4-881b-dcd81379e599",
   "metadata": {},
   "outputs": [],
   "source": [
    "import sys\n",
    "import yaml\n",
    "import matplotlib.pyplot as plt\n",
    "import tensorflow as tf\n",
    "\n",
    "sys.path.append('../modules/')\n",
    "\n",
    "%load_ext autoreload\n",
    "%autoreload 2"
   ]
  },
  {
   "cell_type": "markdown",
   "id": "36d0b289-489b-407f-9ebb-e98b29f77f57",
   "metadata": {},
   "source": [
    "## Load data"
   ]
  },
  {
   "cell_type": "markdown",
   "id": "30d25d5e-bdad-42d0-9b3a-c1b1e72f5314",
   "metadata": {},
   "source": [
    "Source:\n",
    "- https://www.tensorflow.org/tutorials/load_data/images"
   ]
  },
  {
   "cell_type": "code",
   "execution_count": null,
   "id": "c328f021-d202-41b8-8e90-99652da26380",
   "metadata": {},
   "outputs": [],
   "source": [
    "training_data_dir = '../data/Dataset/'\n",
    "test_data_dir = '../data/Dataset_test/'"
   ]
  },
  {
   "cell_type": "code",
   "execution_count": null,
   "id": "1011dc74-239a-404f-b1c5-9dcaba5943b8",
   "metadata": {},
   "outputs": [],
   "source": [
    "square_image_side = 100\n",
    "\n",
    "training_dataset = tf.keras.utils.image_dataset_from_directory(\n",
    "    directory=training_data_dir,\n",
    "    image_size=(square_image_side, square_image_side),\n",
    "    batch_size=64,\n",
    "    color_mode='rgb'\n",
    ")\n",
    "\n",
    "test_dataset = tf.keras.utils.image_dataset_from_directory(\n",
    "    directory=test_data_dir,\n",
    "    image_size=(square_image_side, square_image_side),\n",
    "    batch_size=1\n",
    ")\n",
    "\n",
    "# Define the test and validation datasets by taking respectively \n",
    "# the first 450 samples from the `test_dataset` dataset and all\n",
    "# the other samples.\n",
    "test_data = test_dataset.take(450)\n",
    "validation_data = test_dataset.skip(450)"
   ]
  },
  {
   "cell_type": "code",
   "execution_count": null,
   "id": "27d7f73b-0adb-4994-9a0e-fbdec2788351",
   "metadata": {},
   "outputs": [],
   "source": [
    "# Extract the first batch from the training dataset.\n",
    "test_batch, test_labels = next(iter(training_dataset))\n",
    "\n",
    "# Plot the first 9 images in the batch.\n",
    "fig, axs = plt.subplots(nrows=3, ncols=3, figsize=(10, 10))\n",
    "\n",
    "plt.axis('off')\n",
    "\n",
    "for i in range(9):\n",
    "    ax = axs[i // 3, i % 3]\n",
    "    \n",
    "    ax.imshow(\n",
    "        test_batch[i, ...].numpy().astype('uint8')\n",
    "    )\n",
    "\n",
    "    plt.sca(ax)\n",
    "    plt.title(test_labels[i].numpy())"
   ]
  },
  {
   "cell_type": "code",
   "execution_count": null,
   "id": "db48d388-b254-4576-b36e-a5a12d78df60",
   "metadata": {},
   "outputs": [],
   "source": [
    "test_batch, test_labels = next(iter(training_dataset))\n",
    "\n",
    "fig = plt.figure(figsize=(14, 6))\n",
    "\n",
    "plt.imshow(\n",
    "    test_batch[i, ...].numpy().astype('uint8')\n",
    ")"
   ]
  },
  {
   "cell_type": "markdown",
   "id": "b117034c-4292-4719-b567-46edc8db6dc3",
   "metadata": {},
   "source": [
    "\"Unfold\" the Tensorflow dataset."
   ]
  },
  {
   "cell_type": "code",
   "execution_count": null,
   "id": "c0e91ea9-e318-45b9-b94f-395183837503",
   "metadata": {},
   "outputs": [],
   "source": [
    "x_train = []\n",
    "y_train = []\n",
    "\n",
    "for batch in training_dataset:\n",
    "    x_train.append(batch[0])\n",
    "    y_train.append(batch[1])\n",
    "\n",
    "x_train = tf.concat(x_train, axis=0)\n",
    "y_train = tf.concat(y_train, axis=0)"
   ]
  },
  {
   "cell_type": "code",
   "execution_count": null,
   "id": "bbcce0bf-59a1-429b-b4ef-038898b84403",
   "metadata": {},
   "outputs": [],
   "source": [
    "fig, axs = plt.subplots(ncols=3, nrows=3, figsize=(10, 10))\n",
    "\n",
    "for i, row in enumerate(axs):\n",
    "    for j, col in enumerate(row):\n",
    "        axs[i, j].imshow(x_train[i+j, ...].numpy().astype('uint8'))\n",
    "\n",
    "        plt.sca(axs[i, j])\n",
    "        plt.title(y_train[i+j].numpy())"
   ]
  },
  {
   "cell_type": "markdown",
   "id": "1bd07cdc-e692-4d43-965d-d824a4461705",
   "metadata": {},
   "source": [
    "## Custom VGG-like model"
   ]
  },
  {
   "cell_type": "code",
   "execution_count": null,
   "id": "b26810d2-2c14-45a0-8336-0507dcab9e29",
   "metadata": {},
   "outputs": [],
   "source": [
    "from tensorflow.keras import Input, Sequential, Model\n",
    "from tensorflow.keras.layers import Flatten, Dropout, Dense\n",
    "from tensorflow.keras.callbacks import LearningRateScheduler\n",
    "import seaborn as sns\n",
    "from vgg import VGGLayer\n",
    "\n",
    "sns.set_theme()"
   ]
  },
  {
   "cell_type": "code",
   "execution_count": null,
   "id": "a6b5bea4-7f05-4b61-bbb7-1998c0b7536c",
   "metadata": {},
   "outputs": [],
   "source": [
    "custom_config_path = './custom_vgg_config.yml'\n",
    "\n",
    "with open(custom_config_path, 'r') as f:\n",
    "    custom_vgg_config = yaml.load(f, Loader=yaml.FullLoader)\n",
    "\n",
    "custom_vgg_config"
   ]
  },
  {
   "cell_type": "markdown",
   "id": "ef9b26b9-b3e3-4385-b21c-129c9c01085c",
   "metadata": {},
   "source": [
    "Complete the model with a fully-connected \"head\" at the end of it. The final object with be a Keras `Model`."
   ]
  },
  {
   "cell_type": "code",
   "execution_count": null,
   "id": "312ccd4e-43cf-43b1-a049-d3289a1a3444",
   "metadata": {},
   "outputs": [],
   "source": [
    "inputs = Input((100, 100, 3,))\n",
    "\n",
    "# Note: since there's no softmax activation function for\n",
    "# the final Dense layer, the model outputs the logits\n",
    "# (unnormalized probabilities), rather than the actual\n",
    "# predicted probabilities.\n",
    "outputs = VGGLayer(custom_vgg_config)(inputs)\n",
    "outputs = Flatten()(outputs)\n",
    "outputs = Dropout(0.5)(outputs)\n",
    "outputs = Dense(units=64, activation='relu')(outputs)\n",
    "outputs = Dropout(0.5)(outputs)\n",
    "outputs = Dense(units=64, activation='relu')(outputs)\n",
    "outputs = Dense(units=10)(outputs)\n",
    "\n",
    "custom_vgg_model = Model(\n",
    "    inputs=inputs,\n",
    "    outputs=outputs\n",
    ")\n",
    "\n",
    "# Note: correct number of parameters w.r.t. to source is 217082.\n",
    "custom_vgg_model.summary()"
   ]
  },
  {
   "cell_type": "code",
   "execution_count": null,
   "id": "3da043ac-bc8b-4a48-bb99-246b3bfd515b",
   "metadata": {},
   "outputs": [],
   "source": [
    "# Test the model on a batch of input images.\n",
    "# Output shape: (batch_shape, n_classes).\n",
    "custom_vgg_model(test_batch)[:1]"
   ]
  },
  {
   "cell_type": "markdown",
   "id": "2aecfb30-a2b5-475d-ad37-6a0dd934ed49",
   "metadata": {},
   "source": [
    "Compile the model and train."
   ]
  },
  {
   "cell_type": "code",
   "execution_count": null,
   "id": "4e763c01-6ac7-401e-9101-152abbebf99a",
   "metadata": {},
   "outputs": [],
   "source": [
    "custom_vgg_model.compile(\n",
    "    # optimizer=tf.keras.optimizers.Adam(learning_rate=1e-4),\n",
    "    optimizer=tf.keras.optimizers.SGD(\n",
    "        learning_rate=tf.keras.optimizers.schedules.PiecewiseConstantDecay(\n",
    "            boundaries=[10, 20, 30],\n",
    "            values=[1e-2, 1e-3, 1e-4, 1e-5]\n",
    "        )\n",
    "    ),\n",
    "    # Note: if the model outputs the one-hot encoded probabilities or logits\n",
    "    #       and the true labels are not one-hot encoded, use the SPARSE\n",
    "    #       categorical cross-entropy!\n",
    "    loss=tf.keras.losses.SparseCategoricalCrossentropy(from_logits=True),\n",
    "    metrics=['accuracy']\n",
    ")\n",
    "\n",
    "training_history = custom_vgg_model.fit(\n",
    "    # training_dataset,\n",
    "    # validation_data=validation_data,\n",
    "    x=x_train,\n",
    "    y=y_train,\n",
    "    batch_size=64,\n",
    "    epochs=40\n",
    ")"
   ]
  },
  {
   "cell_type": "markdown",
   "id": "2ce1875f-3175-4ae3-9a23-526ae5e5c002",
   "metadata": {},
   "source": [
    "Plot the value of the training loss across the epochs."
   ]
  },
  {
   "cell_type": "code",
   "execution_count": null,
   "id": "ffb9b92d-65cd-47f9-9237-cbbb621b46df",
   "metadata": {},
   "outputs": [],
   "source": [
    "fig, axs = plt.subplots(nrows=2, ncols=1, figsize=(14, 6))\n",
    "\n",
    "sns.lineplot(\n",
    "    x=range(1, len(training_history.history['loss']) + 1),\n",
    "    y=training_history.history['loss'],\n",
    "    label='Training loss',\n",
    "    ax=axs[0]\n",
    ")\n",
    "\n",
    "if 'val_loss' in training_history.history.keys():\n",
    "    sns.lineplot(\n",
    "        x=range(1, len(training_history.history['loss']) + 1),\n",
    "        y=training_history.history['val_loss'],\n",
    "        label='Validation loss',\n",
    "        ax=axs[0]\n",
    "    )\n",
    "\n",
    "plt.sca(axs[0])\n",
    "plt.ylabel('Loss')\n",
    "\n",
    "sns.lineplot(\n",
    "    x=range(1, len(training_history.history['loss']) + 1),\n",
    "    y=training_history.history['accuracy'],\n",
    "    label='Training accuracy',\n",
    "    ax=axs[1]\n",
    ")\n",
    "\n",
    "if 'val_accuracy' in training_history.history.keys():\n",
    "    sns.lineplot(\n",
    "        x=range(1, len(training_history.history['loss']) + 1),\n",
    "        y=training_history.history['val_accuracy'],\n",
    "        label='Validation accuracy',\n",
    "        ax=axs[1]\n",
    "    )\n",
    "\n",
    "plt.sca(axs[0])\n",
    "plt.ylabel('Loss')\n",
    "plt.xlabel('Epoch')"
   ]
  }
 ],
 "metadata": {
  "kernelspec": {
   "display_name": "Python 3 (ipykernel)",
   "language": "python",
   "name": "python3"
  },
  "language_info": {
   "codemirror_mode": {
    "name": "ipython",
    "version": 3
   },
   "file_extension": ".py",
   "mimetype": "text/x-python",
   "name": "python",
   "nbconvert_exporter": "python",
   "pygments_lexer": "ipython3",
   "version": "3.10.12"
  }
 },
 "nbformat": 4,
 "nbformat_minor": 5
}
