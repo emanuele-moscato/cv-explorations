{
 "cells": [
  {
   "cell_type": "markdown",
   "id": "f84f7484-5b25-45cc-b413-b2e3a568e56a",
   "metadata": {},
   "source": [
    "# Experiment with a convolutional neural network"
   ]
  },
  {
   "cell_type": "code",
   "execution_count": null,
   "id": "7f007e94-0f4e-43f4-881b-dcd81379e599",
   "metadata": {},
   "outputs": [],
   "source": [
    "import sys\n",
    "import yaml\n",
    "import matplotlib.pyplot as plt\n",
    "import tensorflow as tf\n",
    "\n",
    "sys.path.append('../modules/')\n",
    "\n",
    "%load_ext autoreload\n",
    "%autoreload 2"
   ]
  },
  {
   "cell_type": "markdown",
   "id": "92b73359-fc02-4f4b-bde4-222ea0601b68",
   "metadata": {},
   "source": [
    "## A VGG model"
   ]
  },
  {
   "cell_type": "markdown",
   "id": "e006d88e-ae2c-4ab0-aa0a-3d8072291bf5",
   "metadata": {},
   "source": [
    "Import a VGG layer and experiment with it."
   ]
  },
  {
   "cell_type": "code",
   "execution_count": null,
   "id": "57d91569-f0e5-4707-8b5b-f7d23be8a590",
   "metadata": {},
   "outputs": [],
   "source": [
    "from vgg import VGGLayer\n",
    "from utilities import generate_test_batch"
   ]
  },
  {
   "cell_type": "markdown",
   "id": "5e10ce8e-b431-4964-8b62-727ac1a7fde4",
   "metadata": {},
   "source": [
    "Load config file defining the architecture of the neural network."
   ]
  },
  {
   "cell_type": "code",
   "execution_count": null,
   "id": "0511d54d-21fd-42ee-9a0a-5018fafb29a3",
   "metadata": {},
   "outputs": [],
   "source": [
    "config_path = './vgg_config.yml'\n",
    "\n",
    "with open(config_path, 'r') as f:\n",
    "    vgg_config = yaml.load(f, Loader=yaml.FullLoader)\n",
    "\n",
    "vgg_config"
   ]
  },
  {
   "cell_type": "code",
   "execution_count": null,
   "id": "92ccbc62-b12a-4a2e-acb7-a64d18716ede",
   "metadata": {},
   "outputs": [],
   "source": [
    "vgg_layer = VGGLayer(vgg_config)"
   ]
  },
  {
   "cell_type": "markdown",
   "id": "5b14e76d-057e-4b32-a534-c9ac443c3061",
   "metadata": {},
   "source": [
    "Test the layer on randomly-generated data."
   ]
  },
  {
   "cell_type": "code",
   "execution_count": null,
   "id": "30b37966-fc85-4661-8fac-33d21e28a30d",
   "metadata": {},
   "outputs": [],
   "source": [
    "test_batch = generate_test_batch(batch_size=64, image_width=224, image_height=224)\n",
    "\n",
    "test_batch.shape"
   ]
  },
  {
   "cell_type": "code",
   "execution_count": null,
   "id": "bb80a737-9ab3-4d77-8a55-e1dfbb2a7010",
   "metadata": {},
   "outputs": [],
   "source": [
    "vgg_layer(test_batch)[0, ...]"
   ]
  },
  {
   "cell_type": "markdown",
   "id": "36d0b289-489b-407f-9ebb-e98b29f77f57",
   "metadata": {},
   "source": [
    "## Load data"
   ]
  },
  {
   "cell_type": "markdown",
   "id": "30d25d5e-bdad-42d0-9b3a-c1b1e72f5314",
   "metadata": {},
   "source": [
    "Source:\n",
    "- https://www.tensorflow.org/tutorials/load_data/images"
   ]
  },
  {
   "cell_type": "code",
   "execution_count": null,
   "id": "c328f021-d202-41b8-8e90-99652da26380",
   "metadata": {},
   "outputs": [],
   "source": [
    "training_data_dir = '../data/Dataset/'\n",
    "test_data_dir = '../data/Dataset_test/'"
   ]
  },
  {
   "cell_type": "code",
   "execution_count": null,
   "id": "1011dc74-239a-404f-b1c5-9dcaba5943b8",
   "metadata": {},
   "outputs": [],
   "source": [
    "square_image_side = 100\n",
    "\n",
    "training_dataset = tf.keras.utils.image_dataset_from_directory(\n",
    "    directory=training_data_dir,\n",
    "    image_size=(square_image_side, square_image_side),\n",
    "    batch_size=64\n",
    ")\n",
    "\n",
    "test_dataset = tf.keras.utils.image_dataset_from_directory(\n",
    "    directory=test_data_dir,\n",
    "    image_size=(square_image_side, square_image_side),\n",
    "    batch_size=1\n",
    ").shuffle(buffer_size=128)\n",
    "\n",
    "# Define the test and validation datasets by taking respectively \n",
    "# the first 450 samples from the `test_dataset` dataset and all\n",
    "# the other samples.\n",
    "test_data = test_dataset.take(450)\n",
    "validation_data = test_dataset.skip(450)"
   ]
  },
  {
   "cell_type": "code",
   "execution_count": null,
   "id": "27d7f73b-0adb-4994-9a0e-fbdec2788351",
   "metadata": {},
   "outputs": [],
   "source": [
    "# Extract the first batch from the training dataset.\n",
    "test_batch, test_labels = next(iter(training_dataset))\n",
    "\n",
    "# Plot the first 9 images in the batch.\n",
    "fig, axs = plt.subplots(nrows=3, ncols=3, figsize=(10, 10))\n",
    "\n",
    "plt.axis('off')\n",
    "\n",
    "for i in range(9):\n",
    "    ax = axs[i // 3, i % 3]\n",
    "    \n",
    "    ax.imshow(\n",
    "        test_batch[i, ...].numpy().astype('uint8')\n",
    "    )\n",
    "\n",
    "    plt.sca(ax)\n",
    "    plt.title(test_labels[i].numpy())"
   ]
  },
  {
   "cell_type": "markdown",
   "id": "1bd07cdc-e692-4d43-965d-d824a4461705",
   "metadata": {},
   "source": [
    "## Custom VGG-like model"
   ]
  },
  {
   "cell_type": "code",
   "execution_count": null,
   "id": "b26810d2-2c14-45a0-8336-0507dcab9e29",
   "metadata": {},
   "outputs": [],
   "source": [
    "from tensorflow.keras import Input, Sequential, Model\n",
    "from tensorflow.keras.layers import Flatten, Dropout, Dense\n",
    "from tensorflow.keras.callbacks import LearningRateScheduler\n",
    "import seaborn as sns\n",
    "from lr_schedules import step_schedule\n",
    "\n",
    "sns.set_theme()"
   ]
  },
  {
   "cell_type": "code",
   "execution_count": null,
   "id": "a6b5bea4-7f05-4b61-bbb7-1998c0b7536c",
   "metadata": {},
   "outputs": [],
   "source": [
    "custom_config_path = './custom_vgg_config.yml'\n",
    "\n",
    "with open(custom_config_path, 'r') as f:\n",
    "    custom_vgg_config = yaml.load(f, Loader=yaml.FullLoader)\n",
    "\n",
    "custom_vgg_config"
   ]
  },
  {
   "cell_type": "code",
   "execution_count": null,
   "id": "a01971ff-1be3-4954-a05d-859196e6d675",
   "metadata": {},
   "outputs": [],
   "source": [
    "custom_vgg_layer = VGGLayer(custom_vgg_config)"
   ]
  },
  {
   "cell_type": "code",
   "execution_count": null,
   "id": "34783ad4-14ec-4ba6-a7f2-54f8e19b69ea",
   "metadata": {},
   "outputs": [],
   "source": [
    "# Test on an image.\n",
    "test_batch, test_labels = next(iter(training_dataset))\n",
    "\n",
    "custom_vgg_layer(test_batch[:1, ...])"
   ]
  },
  {
   "cell_type": "markdown",
   "id": "ef9b26b9-b3e3-4385-b21c-129c9c01085c",
   "metadata": {},
   "source": [
    "Complete the model with a fully-connected \"head\" at the end of it. The final object with be a Keras `Model`."
   ]
  },
  {
   "cell_type": "code",
   "execution_count": null,
   "id": "312ccd4e-43cf-43b1-a049-d3289a1a3444",
   "metadata": {},
   "outputs": [],
   "source": [
    "inputs = Input((100, 100, 3,))\n",
    "\n",
    "# Note: since there's no softmax activation function for\n",
    "# the final Dense layer, the model outputs the logits\n",
    "# (unnormalized probabilities), rather than the actual\n",
    "# predicted probabilities.\n",
    "outputs = VGGLayer(custom_vgg_config)(inputs)\n",
    "outputs = Flatten()(outputs)\n",
    "outputs = Dropout(0.5)(outputs)\n",
    "outputs = Dense(units=64, activation='relu')(outputs)\n",
    "outputs = Dropout(0.5)(outputs)\n",
    "outputs = Dense(units=64, activation='relu')(outputs)\n",
    "outputs = Dense(units=10)(outputs)\n",
    "\n",
    "custom_vgg_model = Model(\n",
    "    inputs=inputs,\n",
    "    outputs=outputs\n",
    ")\n",
    "\n",
    "custom_vgg_model.summary()"
   ]
  },
  {
   "cell_type": "code",
   "execution_count": null,
   "id": "3da043ac-bc8b-4a48-bb99-246b3bfd515b",
   "metadata": {},
   "outputs": [],
   "source": [
    "# Test the model on a batch of input images.\n",
    "# Output shape: (batch_shape, n_classes).\n",
    "custom_vgg_model(test_batch)[:1]"
   ]
  },
  {
   "cell_type": "markdown",
   "id": "2aecfb30-a2b5-475d-ad37-6a0dd934ed49",
   "metadata": {},
   "source": [
    "Compile the model and train."
   ]
  },
  {
   "cell_type": "code",
   "execution_count": null,
   "id": "4e763c01-6ac7-401e-9101-152abbebf99a",
   "metadata": {},
   "outputs": [],
   "source": [
    "custom_vgg_model.compile(\n",
    "    optimizer=tf.keras.optimizers.Adam(learning_rate=1e-4),\n",
    "    # Note: if the model outputs the one-hot encoded probabilities or logits\n",
    "    #       and the true labels are not one-hot encoded, use the SPARSE\n",
    "    #       categorical cross-entropy!\n",
    "    loss=tf.keras.losses.SparseCategoricalCrossentropy(from_logits=True),\n",
    "    metrics=['accuracy']\n",
    ")\n",
    "\n",
    "training_history = custom_vgg_model.fit(\n",
    "    training_dataset,\n",
    "    validation_data=validation_data,\n",
    "    epochs=20,\n",
    "    callbacks=[LearningRateScheduler(step_schedule)]\n",
    ")"
   ]
  },
  {
   "cell_type": "markdown",
   "id": "2ce1875f-3175-4ae3-9a23-526ae5e5c002",
   "metadata": {},
   "source": [
    "Plot the value of the training loss across the epochs."
   ]
  },
  {
   "cell_type": "code",
   "execution_count": null,
   "id": "ffb9b92d-65cd-47f9-9237-cbbb621b46df",
   "metadata": {},
   "outputs": [],
   "source": [
    "fig, axs = plt.subplots(nrows=2, ncols=1, figsize=(14, 6))\n",
    "\n",
    "sns.lineplot(\n",
    "    x=range(1, len(training_history.history['loss']) + 1),\n",
    "    y=training_history.history['loss'],\n",
    "    label='Training loss',\n",
    "    ax=axs[0]\n",
    ")\n",
    "\n",
    "sns.lineplot(\n",
    "    x=range(1, len(training_history.history['loss']) + 1),\n",
    "    y=training_history.history['val_loss'],\n",
    "    label='Validation loss',\n",
    "    ax=axs[0]\n",
    ")\n",
    "\n",
    "plt.sca(axs[0])\n",
    "plt.ylabel('Loss')\n",
    "\n",
    "sns.lineplot(\n",
    "    x=range(1, len(training_history.history['loss']) + 1),\n",
    "    y=training_history.history['accuracy'],\n",
    "    label='Training accuracy',\n",
    "    ax=axs[1]\n",
    ")\n",
    "\n",
    "sns.lineplot(\n",
    "    x=range(1, len(training_history.history['loss']) + 1),\n",
    "    y=training_history.history['val_accuracy'],\n",
    "    label='Validation accuracy',\n",
    "    ax=axs[1]\n",
    ")\n",
    "\n",
    "plt.sca(axs[0])\n",
    "plt.ylabel('Loss')\n",
    "plt.xlabel('Epoch')"
   ]
  },
  {
   "cell_type": "markdown",
   "id": "ac99979e-a2be-484d-9563-8361e3e03115",
   "metadata": {},
   "source": [
    "Plot the learning rate schedule."
   ]
  },
  {
   "cell_type": "code",
   "execution_count": null,
   "id": "198de96d-a394-4b47-87e6-2bea587a7958",
   "metadata": {},
   "outputs": [],
   "source": [
    "import numpy as np\n",
    "\n",
    "lrs = [1e-4]\n",
    "\n",
    "for i in range(19):\n",
    "    lrs.append(step_schedule(i+1, lrs[-1]))\n",
    "\n",
    "fig = plt.figure(figsize=(14, 6))\n",
    "\n",
    "sns.lineplot(\n",
    "    x=range(20),\n",
    "    y=lrs\n",
    ")"
   ]
  }
 ],
 "metadata": {
  "kernelspec": {
   "display_name": "Python 3 (ipykernel)",
   "language": "python",
   "name": "python3"
  },
  "language_info": {
   "codemirror_mode": {
    "name": "ipython",
    "version": 3
   },
   "file_extension": ".py",
   "mimetype": "text/x-python",
   "name": "python",
   "nbconvert_exporter": "python",
   "pygments_lexer": "ipython3",
   "version": "3.10.12"
  }
 },
 "nbformat": 4,
 "nbformat_minor": 5
}
