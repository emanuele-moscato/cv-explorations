{
 "cells": [
  {
   "cell_type": "markdown",
   "id": "f9215cc6-81b6-41df-b82b-1a94a6f1651c",
   "metadata": {},
   "source": [
    "# Experiment building a VGG-like model"
   ]
  },
  {
   "cell_type": "code",
   "execution_count": null,
   "id": "422c2af0-f93c-48e0-96a5-b36198ddb020",
   "metadata": {},
   "outputs": [],
   "source": [
    "import sys\n",
    "import yaml\n",
    "import tensorflow as tf\n",
    "\n",
    "sys.path.append('../modules/')\n",
    "\n",
    "%load_ext autoreload\n",
    "%autoreload 2"
   ]
  },
  {
   "cell_type": "markdown",
   "id": "f7bf4f34-0c32-4b25-853e-f98767b59095",
   "metadata": {},
   "source": [
    "## Create a VGG-like layer"
   ]
  },
  {
   "cell_type": "markdown",
   "id": "17e00a63-09c9-4046-b948-d0af2d246a61",
   "metadata": {},
   "source": [
    "Import a VGG layer and experiment with it."
   ]
  },
  {
   "cell_type": "code",
   "execution_count": null,
   "id": "7c27027b-2d30-4972-8c30-bde82f7d24cb",
   "metadata": {},
   "outputs": [],
   "source": [
    "from vgg import VGGLayer\n",
    "from utilities import generate_test_batch"
   ]
  },
  {
   "cell_type": "markdown",
   "id": "5ab1918c-912c-4557-b02e-10d047de5d94",
   "metadata": {},
   "source": [
    "Load config file defining the architecture of the neural network."
   ]
  },
  {
   "cell_type": "code",
   "execution_count": null,
   "id": "3b8457fe-5e45-49f5-b7db-4a4be007c2f8",
   "metadata": {},
   "outputs": [],
   "source": [
    "config_path = './vgg_config.yml'\n",
    "\n",
    "with open(config_path, 'r') as f:\n",
    "    vgg_config = yaml.load(f, Loader=yaml.FullLoader)\n",
    "\n",
    "vgg_config"
   ]
  },
  {
   "cell_type": "markdown",
   "id": "9577466b-6b80-4514-90ee-42564d7cf7ee",
   "metadata": {},
   "source": [
    "Build the VGG layer object (a Keras `Layer`)."
   ]
  },
  {
   "cell_type": "code",
   "execution_count": null,
   "id": "f8e75f40-037c-4d2d-afcb-af8e08559563",
   "metadata": {},
   "outputs": [],
   "source": [
    "vgg_layer = VGGLayer(vgg_config)"
   ]
  },
  {
   "cell_type": "markdown",
   "id": "ede3f609-df0e-4eb6-ad17-1851fa3ec91a",
   "metadata": {},
   "source": [
    "Test the layer on randomly-generated data."
   ]
  },
  {
   "cell_type": "code",
   "execution_count": null,
   "id": "cfd385b0-540e-4f40-8162-fcd3f4c58158",
   "metadata": {},
   "outputs": [],
   "source": [
    "test_batch = generate_test_batch(batch_size=4, image_width=224, image_height=224)\n",
    "\n",
    "test_batch.shape"
   ]
  },
  {
   "cell_type": "code",
   "execution_count": null,
   "id": "87fc2231-98be-4d59-8ae1-708662e51066",
   "metadata": {},
   "outputs": [],
   "source": [
    "vgg_layer(test_batch)"
   ]
  },
  {
   "cell_type": "markdown",
   "id": "48bcdf28-d115-47f5-b65c-1cce09d924cf",
   "metadata": {},
   "source": [
    "## Define a `Model` object"
   ]
  },
  {
   "cell_type": "markdown",
   "id": "33499864-eb5e-4f15-9475-ad8cc526b3bd",
   "metadata": {},
   "source": [
    "Turn the VGG layer into a Keras `Model` object."
   ]
  },
  {
   "cell_type": "code",
   "execution_count": null,
   "id": "7a671293-7172-441d-b8ab-cffc7a55a846",
   "metadata": {},
   "outputs": [],
   "source": [
    "from tensorflow.keras import Input, Model"
   ]
  },
  {
   "cell_type": "code",
   "execution_count": null,
   "id": "336377cd-bcf9-49db-9434-1a632773786b",
   "metadata": {},
   "outputs": [],
   "source": [
    "inputs = Input(shape=test_batch.shape[1:])\n",
    "\n",
    "outputs = vgg_layer(inputs)\n",
    "\n",
    "vgg_model = Model(\n",
    "    inputs=inputs,\n",
    "    outputs=outputs\n",
    ")"
   ]
  },
  {
   "cell_type": "markdown",
   "id": "4f82a047-5ff5-4c42-8985-48a3e718b702",
   "metadata": {},
   "source": [
    "Test applying the model on fake data."
   ]
  },
  {
   "cell_type": "code",
   "execution_count": null,
   "id": "64a8ea29-cfde-43f5-91a4-b32388ca1a9f",
   "metadata": {},
   "outputs": [],
   "source": [
    "vgg_model(test_batch)"
   ]
  }
 ],
 "metadata": {
  "kernelspec": {
   "display_name": "Python 3 (ipykernel)",
   "language": "python",
   "name": "python3"
  },
  "language_info": {
   "codemirror_mode": {
    "name": "ipython",
    "version": 3
   },
   "file_extension": ".py",
   "mimetype": "text/x-python",
   "name": "python",
   "nbconvert_exporter": "python",
   "pygments_lexer": "ipython3",
   "version": "3.10.12"
  }
 },
 "nbformat": 4,
 "nbformat_minor": 5
}
